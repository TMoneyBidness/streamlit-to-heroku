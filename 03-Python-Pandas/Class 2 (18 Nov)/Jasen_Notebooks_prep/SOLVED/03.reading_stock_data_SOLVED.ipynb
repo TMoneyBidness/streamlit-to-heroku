{
 "cells": [
  {
   "cell_type": "markdown",
   "metadata": {},
   "source": [
    "# Student Activity: Reading Stocks Data from a CSV\n",
    "\n",
    "## 1. Import the `pandas` library as `pd` and the `Path` class from `pathlib`"
   ]
  },
  {
   "cell_type": "code",
   "execution_count": 7,
   "metadata": {},
   "outputs": [],
   "source": [
    "# initial imports\n",
    "import pandas as pd\n",
    "from pathlib import Path"
   ]
  },
  {
   "cell_type": "markdown",
   "metadata": {},
   "source": [
    "## 2. Create a DataFrame by reading in a CSV file"
   ]
  },
  {
   "cell_type": "code",
   "execution_count": 8,
   "metadata": {},
   "outputs": [],
   "source": [
    "# set the file path\n",
    "file_path = Path(\"../shopify_stock_data.csv\")\n",
    "\n",
    "# create a Pandas DataFrame from a csv file\n",
    "df = pd.read_csv(file_path)"
   ]
  },
  {
   "cell_type": "markdown",
   "metadata": {},
   "source": [
    "## 3. Explore the data"
   ]
  },
  {
   "cell_type": "code",
   "execution_count": 9,
   "metadata": {},
   "outputs": [
    {
     "data": {
      "text/html": [
       "<div>\n",
       "<style scoped>\n",
       "    .dataframe tbody tr th:only-of-type {\n",
       "        vertical-align: middle;\n",
       "    }\n",
       "\n",
       "    .dataframe tbody tr th {\n",
       "        vertical-align: top;\n",
       "    }\n",
       "\n",
       "    .dataframe thead th {\n",
       "        text-align: right;\n",
       "    }\n",
       "</style>\n",
       "<table border=\"1\" class=\"dataframe\">\n",
       "  <thead>\n",
       "    <tr style=\"text-align: right;\">\n",
       "      <th></th>\n",
       "      <th>date</th>\n",
       "      <th>close</th>\n",
       "      <th>volume</th>\n",
       "      <th>open</th>\n",
       "      <th>high</th>\n",
       "      <th>low</th>\n",
       "    </tr>\n",
       "  </thead>\n",
       "  <tbody>\n",
       "    <tr>\n",
       "      <th>0</th>\n",
       "      <td>5/21/2015 16:00:00</td>\n",
       "      <td>31.25</td>\n",
       "      <td>211058</td>\n",
       "      <td>35.03</td>\n",
       "      <td>35.03</td>\n",
       "      <td>30.00</td>\n",
       "    </tr>\n",
       "    <tr>\n",
       "      <th>1</th>\n",
       "      <td>5/22/2015 16:00:00</td>\n",
       "      <td>34.94</td>\n",
       "      <td>224174</td>\n",
       "      <td>32.32</td>\n",
       "      <td>38.00</td>\n",
       "      <td>32.00</td>\n",
       "    </tr>\n",
       "    <tr>\n",
       "      <th>2</th>\n",
       "      <td>5/25/2015 16:00:00</td>\n",
       "      <td>37.26</td>\n",
       "      <td>105460</td>\n",
       "      <td>35.00</td>\n",
       "      <td>37.47</td>\n",
       "      <td>35.00</td>\n",
       "    </tr>\n",
       "    <tr>\n",
       "      <th>3</th>\n",
       "      <td>5/26/2015 16:00:00</td>\n",
       "      <td>36.92</td>\n",
       "      <td>75935</td>\n",
       "      <td>37.26</td>\n",
       "      <td>37.69</td>\n",
       "      <td>36.30</td>\n",
       "    </tr>\n",
       "    <tr>\n",
       "      <th>4</th>\n",
       "      <td>5/27/2015 16:00:00</td>\n",
       "      <td>34.50</td>\n",
       "      <td>135778</td>\n",
       "      <td>38.00</td>\n",
       "      <td>38.16</td>\n",
       "      <td>33.63</td>\n",
       "    </tr>\n",
       "    <tr>\n",
       "      <th>5</th>\n",
       "      <td>5/28/2015 16:00:00</td>\n",
       "      <td>34.00</td>\n",
       "      <td>28756</td>\n",
       "      <td>34.60</td>\n",
       "      <td>34.60</td>\n",
       "      <td>33.14</td>\n",
       "    </tr>\n",
       "    <tr>\n",
       "      <th>6</th>\n",
       "      <td>5/29/2015 16:00:00</td>\n",
       "      <td>33.52</td>\n",
       "      <td>15319</td>\n",
       "      <td>33.71</td>\n",
       "      <td>34.11</td>\n",
       "      <td>33.35</td>\n",
       "    </tr>\n",
       "    <tr>\n",
       "      <th>7</th>\n",
       "      <td>6/1/2015 16:00:00</td>\n",
       "      <td>33.85</td>\n",
       "      <td>8839</td>\n",
       "      <td>33.73</td>\n",
       "      <td>34.27</td>\n",
       "      <td>33.52</td>\n",
       "    </tr>\n",
       "    <tr>\n",
       "      <th>8</th>\n",
       "      <td>6/2/2015 16:00:00</td>\n",
       "      <td>33.13</td>\n",
       "      <td>7318</td>\n",
       "      <td>34.72</td>\n",
       "      <td>34.72</td>\n",
       "      <td>33.13</td>\n",
       "    </tr>\n",
       "    <tr>\n",
       "      <th>9</th>\n",
       "      <td>6/3/2015 16:00:00</td>\n",
       "      <td>34.19</td>\n",
       "      <td>29821</td>\n",
       "      <td>33.98</td>\n",
       "      <td>34.26</td>\n",
       "      <td>33.00</td>\n",
       "    </tr>\n",
       "  </tbody>\n",
       "</table>\n",
       "</div>"
      ],
      "text/plain": [
       "                 date  close  volume   open   high    low\n",
       "0  5/21/2015 16:00:00  31.25  211058  35.03  35.03  30.00\n",
       "1  5/22/2015 16:00:00  34.94  224174  32.32  38.00  32.00\n",
       "2  5/25/2015 16:00:00  37.26  105460  35.00  37.47  35.00\n",
       "3  5/26/2015 16:00:00  36.92   75935  37.26  37.69  36.30\n",
       "4  5/27/2015 16:00:00  34.50  135778  38.00  38.16  33.63\n",
       "5  5/28/2015 16:00:00  34.00   28756  34.60  34.60  33.14\n",
       "6  5/29/2015 16:00:00  33.52   15319  33.71  34.11  33.35\n",
       "7   6/1/2015 16:00:00  33.85    8839  33.73  34.27  33.52\n",
       "8   6/2/2015 16:00:00  33.13    7318  34.72  34.72  33.13\n",
       "9   6/3/2015 16:00:00  34.19   29821  33.98  34.26  33.00"
      ]
     },
     "execution_count": 9,
     "metadata": {},
     "output_type": "execute_result"
    }
   ],
   "source": [
    "# get the first 10 rows from the DataFrame\n",
    "df.head(10)"
   ]
  },
  {
   "cell_type": "markdown",
   "metadata": {},
   "source": [
    "## 4. Fix the column names"
   ]
  },
  {
   "cell_type": "code",
   "execution_count": null,
   "metadata": {},
   "outputs": [],
   "source": [
    "# set column names\n",
    "col_names = [\"date\", \"close\", \"volume\", \"open\", \"high\", \"low\"]\n",
    "\n",
    "# recreate the DataFrame\n",
    "df = pd.read_csv(file_path, header = None)\n",
    "\n",
    "# add column names\n",
    "df.columns = col_names"
   ]
  },
  {
   "cell_type": "markdown",
   "metadata": {},
   "source": [
    "## 5. Get the first 10 rows"
   ]
  },
  {
   "cell_type": "code",
   "execution_count": null,
   "metadata": {},
   "outputs": [],
   "source": [
    "# get the first 10 rows from the DataFrame\n",
    "df.head(10)"
   ]
  },
  {
   "cell_type": "markdown",
   "metadata": {},
   "source": [
    "## 6. Challenge: Get the bottom 10 rows"
   ]
  },
  {
   "cell_type": "code",
   "execution_count": null,
   "metadata": {},
   "outputs": [],
   "source": [
    "# get the bottom 10 rows from the DataFrame\n",
    "df.tail(10)"
   ]
  }
 ],
 "metadata": {
  "kernelspec": {
   "display_name": "Python 3",
   "language": "python",
   "name": "python3"
  },
  "language_info": {
   "codemirror_mode": {
    "name": "ipython",
    "version": 3
   },
   "file_extension": ".py",
   "mimetype": "text/x-python",
   "name": "python",
   "nbconvert_exporter": "python",
   "pygments_lexer": "ipython3",
   "version": "3.7.10"
  }
 },
 "nbformat": 4,
 "nbformat_minor": 4
}
