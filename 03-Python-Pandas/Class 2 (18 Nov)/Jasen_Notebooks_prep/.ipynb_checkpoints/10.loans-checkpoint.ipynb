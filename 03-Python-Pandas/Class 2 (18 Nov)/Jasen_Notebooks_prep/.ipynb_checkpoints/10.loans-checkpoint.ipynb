{
 "cells": [
  {
   "cell_type": "markdown",
   "metadata": {},
   "source": [
    "# Student Do: Three-Year Loans\n",
    "\n",
    "The higher-ups at Harold's firm want to know how to better target customers who are seeking three-year loans. Harold's manager has asked him to review a compilation of loan data, and then filter out the necessary data to generate insights about customers who have been granted three-year loans.\n",
    "\n",
    "Follow the instructions to help Harold answer his manager's questions.\n",
    "\n",
    "## Instructions\n",
    "\n",
    "Complete the following steps.\n",
    "\n",
    "### Import the necessary libraries and dependencies."
   ]
  },
  {
   "cell_type": "code",
   "execution_count": null,
   "metadata": {},
   "outputs": [],
   "source": [
    "# Import libraries and dependencies\n"
   ]
  },
  {
   "cell_type": "markdown",
   "metadata": {},
   "source": [
    "### Read CSV in as DataFrame"
   ]
  },
  {
   "cell_type": "code",
   "execution_count": null,
   "metadata": {},
   "outputs": [],
   "source": [
    "# Set the path\n",
    "# file_path = \n",
    "# Read in the CSV as a DataFrame\n",
    "# loans_csv = "
   ]
  },
  {
   "cell_type": "markdown",
   "metadata": {},
   "source": [
    "### Show the First 10 Records"
   ]
  },
  {
   "cell_type": "code",
   "execution_count": null,
   "metadata": {},
   "outputs": [],
   "source": [
    "# Retrieve rows with index 0 up to 10 (not including)\n"
   ]
  },
  {
   "cell_type": "markdown",
   "metadata": {},
   "source": [
    "### View Summary Statistics"
   ]
  },
  {
   "cell_type": "code",
   "execution_count": null,
   "metadata": {},
   "outputs": [],
   "source": [
    "# Describe summary statistics for csv data\n",
    "\n",
    "# Note: README indicates \"for csv data\" which implies all data\n",
    "# So, what parameter must we pass to get summary statistics\n",
    "# for all data, and not just the numerical values, which is the default."
   ]
  },
  {
   "cell_type": "markdown",
   "metadata": {},
   "source": [
    "### Filter Columns and Create Subset DataFrame"
   ]
  },
  {
   "cell_type": "code",
   "execution_count": null,
   "metadata": {},
   "outputs": [],
   "source": [
    "# Filter the DataFrame down to the following, keep all rows\n",
    "\n",
    "#loan_amnt\n",
    "#term\n",
    "#int_rate\n",
    "#emp_title\n",
    "#annual_inc\n",
    "#purpose\n"
   ]
  },
  {
   "cell_type": "markdown",
   "metadata": {},
   "source": [
    "### Filter Rows by 36 Month Terms"
   ]
  },
  {
   "cell_type": "code",
   "execution_count": null,
   "metadata": {},
   "outputs": [],
   "source": [
    "# Conditional indexing to filter DataFrame where 'term' is equal to '36 months'\n",
    "\n",
    "# This is a tough one...as you have not seen this before...so think about it like this...\n",
    "# 1. what syntax will return each row in the \"term\" column\n",
    "# 2. then, what syntax can you use to compare the string values with a given string?\n",
    "\n",
    "# Hint: filtered_df[\"term\"] == \"36 months\" will give you a boolean...now use that to index\n",
    "# all rows with True...basically test.loc[[True, True, False]]\n",
    "\n",
    "## Hint hint...look at the docs for .loc"
   ]
  },
  {
   "cell_type": "markdown",
   "metadata": {},
   "source": [
    "### Modify Row Values"
   ]
  },
  {
   "cell_type": "code",
   "execution_count": null,
   "metadata": {},
   "outputs": [],
   "source": [
    "# Change row values within the 'term' column from '36 months' to '3 Years'\n"
   ]
  },
  {
   "cell_type": "code",
   "execution_count": null,
   "metadata": {},
   "outputs": [],
   "source": [
    "# Change row values within the 'emp_title' column from NaN to 'Unknown'\n"
   ]
  },
  {
   "cell_type": "markdown",
   "metadata": {},
   "source": [
    "### View Summary Statistics for 3 Year Term Loans"
   ]
  },
  {
   "cell_type": "code",
   "execution_count": null,
   "metadata": {},
   "outputs": [],
   "source": [
    "# Describe summary statistics for three-year loans\n"
   ]
  },
  {
   "cell_type": "markdown",
   "metadata": {},
   "source": [
    "### Show Unique Values for Employee Titles with 3 Year Loans"
   ]
  },
  {
   "cell_type": "code",
   "execution_count": null,
   "metadata": {},
   "outputs": [],
   "source": [
    "# Calculate unique values and counts for employee titles of 3 year customer loans\n",
    "\n",
    "# see docs for value_counts() and/or refer back to 06.data_cleaning notebook"
   ]
  },
  {
   "cell_type": "markdown",
   "metadata": {},
   "source": [
    "### Show Unique Values for Purpose of 3 Year Loans"
   ]
  },
  {
   "cell_type": "code",
   "execution_count": null,
   "metadata": {},
   "outputs": [],
   "source": [
    "# Calculate unique values and counts for loan purposes of 3 year customer loans\n"
   ]
  },
  {
   "cell_type": "markdown",
   "metadata": {},
   "source": [
    "### Show Summary Statistics for 3 Year Loans of Customers with Annual Income Greater Than $80,000"
   ]
  },
  {
   "cell_type": "code",
   "execution_count": null,
   "metadata": {},
   "outputs": [],
   "source": [
    "# Display summary statistics where annual income is greater than $80,000 to find count and mean\n"
   ]
  },
  {
   "cell_type": "markdown",
   "metadata": {},
   "source": [
    "### Show Summary Statistics for 3 Year Loans of Customers with Annual Income Less Than $80,000"
   ]
  },
  {
   "cell_type": "code",
   "execution_count": null,
   "metadata": {},
   "outputs": [],
   "source": [
    "# Display summary statistics where annual income is less than $80,000 to find count and mean\n"
   ]
  },
  {
   "cell_type": "markdown",
   "metadata": {},
   "source": [
    "### What insights can we answer regarding 3 year loans?\n",
    "\n",
    "1. What kind of customers (employee title) seem to ask for three-year loans most frequently?\n",
    "2. What are three-year loans generally used for?\n",
    "3. What is the difference in count of three-year loan customers with annual incomes greater than 80,000 compared to those with annual incomes less than 80,000?\n",
    "4. What is the difference in interest rates of three-year loan customers with annual incomes greater than 80,000 compared to those with annual incomes less than 80,000? "
   ]
  }
 ],
 "metadata": {
  "kernelspec": {
   "display_name": "Python 3",
   "language": "python",
   "name": "python3"
  },
  "language_info": {
   "codemirror_mode": {
    "name": "ipython",
    "version": 3
   },
   "file_extension": ".py",
   "mimetype": "text/x-python",
   "name": "python",
   "nbconvert_exporter": "python",
   "pygments_lexer": "ipython3",
   "version": "3.7.10"
  }
 },
 "nbformat": 4,
 "nbformat_minor": 4
}
