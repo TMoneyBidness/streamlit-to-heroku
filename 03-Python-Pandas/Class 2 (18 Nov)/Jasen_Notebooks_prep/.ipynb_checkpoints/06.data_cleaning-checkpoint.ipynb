{
 "cells": [
  {
   "cell_type": "markdown",
   "metadata": {},
   "source": [
    "## Instructor Demo: Data Cleaning\n",
    "This program reads in a CSV file, and perfoms a number of data quality checks. Data values that fail the checks are then cleansed."
   ]
  },
  {
   "cell_type": "code",
   "execution_count": null,
   "metadata": {},
   "outputs": [],
   "source": [
    "# Initial imports\n",
    "import pandas as pd\n",
    "from pathlib import Path"
   ]
  },
  {
   "cell_type": "markdown",
   "metadata": {},
   "source": [
    "### Read in CSV and take a sample"
   ]
  },
  {
   "cell_type": "code",
   "execution_count": null,
   "metadata": {},
   "outputs": [],
   "source": [
    "# Take sample of data\n",
    "csv_path = Path(\"order_data.csv\")\n",
    "csv_data = pd.read_csv(csv_path, index_col=\"order_no\")\n",
    "csv_data.sample(5)"
   ]
  },
  {
   "cell_type": "code",
   "execution_count": null,
   "metadata": {},
   "outputs": [],
   "source": [
    "# What if we used the default Pandas index...\n",
    "csv_data = pd.read_csv(csv_path)\n",
    "csv_data.sample(5)"
   ]
  },
  {
   "cell_type": "code",
   "execution_count": null,
   "metadata": {},
   "outputs": [],
   "source": [
    "# Lastly, a note on sampling. It is used to simulate many things, as we will no doubt see in Monte Carlo analysis.\n",
    "\n",
    "# In the case of sampling from a random uniform distribution, see this post i wrote after getting this interview\n",
    "# question with an insurer/asset manager for a quant analyst position back in 2016...\n",
    "# https://opensourcequant.wordpress.com/2016/03/24/how-i-used-18-lines-of-r-code-to-crack-the-triangle-challenge/#more-20"
   ]
  },
  {
   "cell_type": "markdown",
   "metadata": {},
   "source": [
    "### Identify DataFrame Data Types"
   ]
  },
  {
   "cell_type": "code",
   "execution_count": null,
   "metadata": {},
   "outputs": [],
   "source": [
    "# Retrieve DataFrame data types\n",
    "csv_data.dtypes"
   ]
  },
  {
   "cell_type": "markdown",
   "metadata": {},
   "source": [
    "### Assess data quality by identifying the number of rows"
   ]
  },
  {
   "cell_type": "code",
   "execution_count": null,
   "metadata": {},
   "outputs": [],
   "source": [
    "# Identify Series count\n",
    "csv_data.count()"
   ]
  },
  {
   "cell_type": "code",
   "execution_count": null,
   "metadata": {},
   "outputs": [],
   "source": [
    "# What is another method for counting the number of rows, but includes NA values? Anyone?"
   ]
  },
  {
   "cell_type": "code",
   "execution_count": null,
   "metadata": {},
   "outputs": [],
   "source": [
    "# display(len(csv_data['order_no']))\n",
    "# display(len(csv_data['customer_no']))"
   ]
  },
  {
   "cell_type": "markdown",
   "metadata": {},
   "source": [
    "### Assess data quality by identifying the number of times a value occurs"
   ]
  },
  {
   "cell_type": "code",
   "execution_count": null,
   "metadata": {},
   "outputs": [],
   "source": [
    "# Identify frequency of values\n",
    "csv_data[\"customer_no\"].value_counts()"
   ]
  },
  {
   "cell_type": "markdown",
   "metadata": {},
   "source": [
    "### Assess data quality by checking for nulls"
   ]
  },
  {
   "cell_type": "code",
   "execution_count": null,
   "metadata": {},
   "outputs": [],
   "source": [
    "# Check for null values\n",
    "csv_data.isnull()"
   ]
  },
  {
   "cell_type": "markdown",
   "metadata": {},
   "source": [
    "### Assess data quality by determining the percentage of nulls"
   ]
  },
  {
   "cell_type": "code",
   "execution_count": null,
   "metadata": {},
   "outputs": [],
   "source": [
    "# Determine percentage of nulls\n",
    "csv_data.isnull().mean() * 100"
   ]
  },
  {
   "cell_type": "markdown",
   "metadata": {},
   "source": [
    "### Assess data quality by determining the number of nulls"
   ]
  },
  {
   "cell_type": "code",
   "execution_count": null,
   "metadata": {},
   "outputs": [],
   "source": [
    "# Determine number of nulls\n",
    "csv_data.isnull().sum()"
   ]
  },
  {
   "cell_type": "markdown",
   "metadata": {},
   "source": [
    "### Cleanse data by filling nulls with default value (i.e. \"Unknown\", 0, or mean() is common)"
   ]
  },
  {
   "cell_type": "code",
   "execution_count": null,
   "metadata": {},
   "outputs": [],
   "source": [
    "# Cleanse nulls from DataFrame by filling na - otherwise referred to as \"imputing data\" and there are many techniques, \n",
    "# all of which depend on your problem...ranging from deleting records, to imputing with the mean or even using\n",
    "# K-Means clustering to determine the missing data point.\n",
    "csv_data[\"customer_no\"] = csv_data[\"customer_no\"].fillna(\"Unknown\")\n",
    "csv_data"
   ]
  },
  {
   "cell_type": "markdown",
   "metadata": {},
   "source": [
    "### Cleanse data by dropping nulls"
   ]
  },
  {
   "cell_type": "code",
   "execution_count": null,
   "metadata": {},
   "outputs": [],
   "source": [
    "# Cleaning nulls from DataFrame by dropping\n",
    "csv_data = csv_data.dropna().copy()\n",
    "csv_data"
   ]
  },
  {
   "cell_type": "markdown",
   "metadata": {},
   "source": [
    "### Checking number of nulls again"
   ]
  },
  {
   "cell_type": "code",
   "execution_count": null,
   "metadata": {},
   "outputs": [],
   "source": [
    "csv_data.isnull().sum()"
   ]
  },
  {
   "cell_type": "markdown",
   "metadata": {},
   "source": [
    "### Assess data quality by checking for duplicate rows"
   ]
  },
  {
   "cell_type": "code",
   "execution_count": null,
   "metadata": {},
   "outputs": [],
   "source": [
    "# Check duplicates\n",
    "csv_data.duplicated()"
   ]
  },
  {
   "cell_type": "markdown",
   "metadata": {},
   "source": [
    "### Assess data quality by checking for duplicate customer_no values"
   ]
  },
  {
   "cell_type": "code",
   "execution_count": null,
   "metadata": {},
   "outputs": [],
   "source": [
    "# Check duplicates for specific field\n",
    "csv_data[\"customer_no\"].duplicated()"
   ]
  },
  {
   "cell_type": "markdown",
   "metadata": {},
   "source": [
    "### Cleanse data by dropping duplicates"
   ]
  },
  {
   "cell_type": "code",
   "execution_count": null,
   "metadata": {},
   "outputs": [],
   "source": [
    "# Clean duplicates\n",
    "csv_data = csv_data.drop_duplicates().copy()"
   ]
  },
  {
   "cell_type": "markdown",
   "metadata": {},
   "source": [
    "### Assess data quality by using `head` function to sample data and identify currency symbols"
   ]
  },
  {
   "cell_type": "code",
   "execution_count": null,
   "metadata": {},
   "outputs": [],
   "source": [
    "# Identify if numeric field with $ symbol\n",
    "csv_data.head()"
   ]
  },
  {
   "cell_type": "markdown",
   "metadata": {},
   "source": [
    "### Cleanse data by replacing currency symbols"
   ]
  },
  {
   "cell_type": "code",
   "execution_count": null,
   "metadata": {},
   "outputs": [],
   "source": [
    "# Clean identified numeric fields with $ symbol\n",
    "csv_data[\"order_total\"] = csv_data[\"order_total\"].str.replace(\"$\", \"\")\n",
    "csv_data[\"order_total\"]"
   ]
  },
  {
   "cell_type": "code",
   "execution_count": null,
   "metadata": {},
   "outputs": [],
   "source": [
    "# Note the warning...if anyone can spot the minor typo they should feel free to:\n",
    "# 1. fork the pandas repo\n",
    "# 2. fix the typo locally\n",
    "# 3. push to their remote fork\n",
    "# 4. submit a pull request to Pandas, and hope they accept PRs for minor typos\n",
    "\n",
    "# See https://github.com/pandas-dev/pandas/blob/700be617eb567fb4ab82aa8151d5c4ee02c22b95/pandas/core/strings/accessor.py#L1428 for where to find the typo"
   ]
  },
  {
   "cell_type": "code",
   "execution_count": null,
   "metadata": {},
   "outputs": [],
   "source": [
    "# Retrieve data types to confirm what needs to be converted\n",
    "csv_data.dtypes"
   ]
  },
  {
   "cell_type": "code",
   "execution_count": null,
   "metadata": {},
   "outputs": [],
   "source": [
    "# Convert `order_total` from `object` to `float`\n",
    "csv_data[\"order_total\"] = csv_data[\"order_total\"].astype(\"float\")"
   ]
  },
  {
   "cell_type": "code",
   "execution_count": null,
   "metadata": {},
   "outputs": [],
   "source": [
    "# Confirm conversion worked as expected\n",
    "csv_data.dtypes"
   ]
  }
 ],
 "metadata": {
  "file_extension": ".py",
  "kernelspec": {
   "display_name": "Python 3",
   "language": "python",
   "name": "python3"
  },
  "language_info": {
   "codemirror_mode": {
    "name": "ipython",
    "version": 3
   },
   "file_extension": ".py",
   "mimetype": "text/x-python",
   "name": "python",
   "nbconvert_exporter": "python",
   "pygments_lexer": "ipython3",
   "version": "3.7.10"
  },
  "mimetype": "text/x-python",
  "name": "python",
  "npconvert_exporter": "python",
  "pygments_lexer": "ipython3",
  "version": 3
 },
 "nbformat": 4,
 "nbformat_minor": 4
}
