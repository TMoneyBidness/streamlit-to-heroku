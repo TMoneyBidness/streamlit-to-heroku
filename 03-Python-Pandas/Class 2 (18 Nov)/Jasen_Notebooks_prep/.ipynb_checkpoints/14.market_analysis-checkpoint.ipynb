{
 "cells": [
  {
   "cell_type": "markdown",
   "metadata": {},
   "source": [
    "# Student Activity: Market Analysis\n",
    "\n",
    "In this activity, Harold has been asked to analyze the financial data of the companies in the S&P 500. Specifically, Harold has been asked to find and plot the following:\n",
    "\n",
    "1. A pie chart of the S&P 500 company sector distribution.\n",
    "\n",
    "2. A bar chart of the top 20 market cap companies.\n",
    "\n",
    "3. A scatter plot of the price vs. earnings relationship.\n",
    "\n",
    "Use the Pandas library to help Harold perform this analysis and generate the plots.\n",
    "\n",
    "## Instructions\n",
    "\n",
    "### Import the necessary libraries and dependencies."
   ]
  },
  {
   "cell_type": "code",
   "execution_count": null,
   "metadata": {},
   "outputs": [],
   "source": [
    "# Import libraries and dependencies\n"
   ]
  },
  {
   "cell_type": "markdown",
   "metadata": {},
   "source": [
    "### Read CSV in as DataFrame"
   ]
  },
  {
   "cell_type": "code",
   "execution_count": null,
   "metadata": {},
   "outputs": [],
   "source": [
    "# Set the path\n",
    "\n",
    "\n",
    "# Read in the CSV as a DataFrame\n"
   ]
  },
  {
   "cell_type": "markdown",
   "metadata": {},
   "source": [
    "### Calculate Sector Counts"
   ]
  },
  {
   "cell_type": "code",
   "execution_count": null,
   "metadata": {},
   "outputs": [],
   "source": [
    "# Count the frequency of each sector from the list of companies\n",
    "\n",
    "# From the README:\n",
    "# Use the `value_counts()` function on the `Sector` column of the DataFrame\n",
    "# to count and return a Series object representing the frequency of unique values.\n"
   ]
  },
  {
   "cell_type": "markdown",
   "metadata": {},
   "source": [
    "### Plot Sector Counts"
   ]
  },
  {
   "cell_type": "code",
   "execution_count": null,
   "metadata": {},
   "outputs": [],
   "source": [
    "# Plot a pie chart from the distribution of company sectors\n",
    "\n",
    "# Hint: look at the doc for .plot() in pandas for how to specify a \"pie\" chart\n",
    "# The class demo showed a bar chart by specifying the parameter (kind=\"bar\")"
   ]
  },
  {
   "cell_type": "markdown",
   "metadata": {},
   "source": [
    "### Filter By Top 20 Market Cap Companies"
   ]
  },
  {
   "cell_type": "code",
   "execution_count": null,
   "metadata": {},
   "outputs": [],
   "source": [
    "# Some of these solutions involve methods you have not seen before...\n",
    "# There is a first time for everything...i include hints where relevant...\n",
    "# Refer to python docs for more info... \n",
    "\n",
    "# Grab the `Symbol` and `Market Cap` columns\n",
    "# Hint: use .loc\n",
    "\n",
    "# Set the 'Symbol' as the index\n",
    "# Hint: use set_index() method of pandas Dataframes\n",
    "\n",
    "# Drop the extra 'Symbol' column\n",
    "# Hint: use drop() method\n",
    "\n",
    "# Filter down to 20 companies with the largest market caps\n",
    "# Hint: use nlargest() method\n",
    "\n",
    "# Display the DataFrame\n"
   ]
  },
  {
   "cell_type": "markdown",
   "metadata": {},
   "source": [
    "### Plot Top 20 Market Cap Companies"
   ]
  },
  {
   "cell_type": "code",
   "execution_count": null,
   "metadata": {},
   "outputs": [],
   "source": [
    "# Plot a bar chart of the top 20 market cap companies\n"
   ]
  },
  {
   "cell_type": "markdown",
   "metadata": {},
   "source": [
    "### Plot Relationship Between Price and Earnings/Share"
   ]
  },
  {
   "cell_type": "code",
   "execution_count": null,
   "metadata": {},
   "outputs": [],
   "source": [
    "# Plot a scatter plot to display the relationship between price vs. earnings/share\n",
    "\n",
    "# Hint: look at the plot() docs, specifically for (kind=\"scatter\")"
   ]
  }
 ],
 "metadata": {
  "kernelspec": {
   "display_name": "Python 3",
   "language": "python",
   "name": "python3"
  },
  "language_info": {
   "codemirror_mode": {
    "name": "ipython",
    "version": 3
   },
   "file_extension": ".py",
   "mimetype": "text/x-python",
   "name": "python",
   "nbconvert_exporter": "python",
   "pygments_lexer": "ipython3",
   "version": "3.7.10"
  }
 },
 "nbformat": 4,
 "nbformat_minor": 4
}
