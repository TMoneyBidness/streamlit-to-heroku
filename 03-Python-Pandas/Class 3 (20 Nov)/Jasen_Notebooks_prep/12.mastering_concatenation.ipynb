{
 "cells": [
  {
   "cell_type": "markdown",
   "metadata": {},
   "source": [
    " # Mastering Concatenation!"
   ]
  },
  {
   "cell_type": "markdown",
   "metadata": {},
   "source": [
    "Two county organizations that you are a part of, Financial Leaders of America and Investors Leadership Council, have recently joined forces.\n",
    "\n",
    "Eager to consolidate the dues and membership data, the treasurer has reached out to you––the group's FinTech guru––to create a master ledger containing financial data for both organizations.\n",
    "\n",
    "Help the treasurer out by consolidating the dues and member data.\n",
    "\n",
    "## Instructions"
   ]
  },
  {
   "cell_type": "code",
   "execution_count": 1,
   "metadata": {},
   "outputs": [],
   "source": [
    "# Initial imports\n",
    "import pandas as pd\n",
    "from pathlib import Path"
   ]
  },
  {
   "cell_type": "markdown",
   "metadata": {},
   "source": [
    " ### Read in data"
   ]
  },
  {
   "cell_type": "code",
   "execution_count": 2,
   "metadata": {},
   "outputs": [],
   "source": [
    "# Set the path for each CSV file\n",
    "fin_leaders_america_path = Path(\"fin_leaders_america.csv\")\n",
    "investors_leadership_path = Path(\"invstrs_leadership.csv\")\n",
    "fin_leaders_mem_path = Path(\"fin_leaders_members.csv\")\n",
    "investors_leadership_mem_path = Path(\"invstrs_leadership_members.csv\")\n",
    "\n",
    "# Read in the data into Pandas DataFrames\n",
    "fin_leaders_dues = pd.read_csv(fin_leaders_america_path)\n",
    "investors_leadership_dues = pd.read_csv(investors_leadership_path)\n",
    "fin_leaders_mbr_status = pd.read_csv(fin_leaders_mem_path)\n",
    "investors_leadership_mbr_status = pd.read_csv(investors_leadership_mem_path)"
   ]
  },
  {
   "cell_type": "markdown",
   "metadata": {},
   "source": [
    " ### Concatenate dues data using `rows` axis and `inner` join"
   ]
  },
  {
   "cell_type": "code",
   "execution_count": null,
   "metadata": {},
   "outputs": [],
   "source": []
  },
  {
   "cell_type": "markdown",
   "metadata": {},
   "source": [
    " ### Concatenate member data using `rows` axis and `inner` join"
   ]
  },
  {
   "cell_type": "code",
   "execution_count": null,
   "metadata": {},
   "outputs": [],
   "source": []
  },
  {
   "cell_type": "markdown",
   "metadata": {},
   "source": [
    " ### Concatenate dues and member data using `columns` axis and `inner` join"
   ]
  },
  {
   "cell_type": "code",
   "execution_count": null,
   "metadata": {},
   "outputs": [],
   "source": []
  }
 ],
 "metadata": {
  "file_extension": ".py",
  "kernelspec": {
   "display_name": "Python 3",
   "language": "python",
   "name": "python3"
  },
  "language_info": {
   "codemirror_mode": {
    "name": "ipython",
    "version": 3
   },
   "file_extension": ".py",
   "mimetype": "text/x-python",
   "name": "python",
   "nbconvert_exporter": "python",
   "pygments_lexer": "ipython3",
   "version": "3.7.10"
  },
  "mimetype": "text/x-python",
  "name": "python",
  "npconvert_exporter": "python",
  "pygments_lexer": "ipython3",
  "version": 3
 },
 "nbformat": 4,
 "nbformat_minor": 4
}
