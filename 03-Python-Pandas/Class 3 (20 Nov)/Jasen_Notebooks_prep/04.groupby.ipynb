{
 "cells": [
  {
   "cell_type": "markdown",
   "metadata": {},
   "source": [
    " # Instructor Do: Grouping\n",
    "\n",
    " ### Import Libraries and Dependencies"
   ]
  },
  {
   "cell_type": "code",
   "execution_count": null,
   "metadata": {},
   "outputs": [],
   "source": [
    "import pandas as pd\n",
    "from pathlib import Path\n",
    "\n",
    "%matplotlib inline"
   ]
  },
  {
   "cell_type": "markdown",
   "metadata": {},
   "source": [
    " ### Read in File and Clean Data"
   ]
  },
  {
   "cell_type": "code",
   "execution_count": null,
   "metadata": {},
   "outputs": [],
   "source": [
    "# Read CSV\n",
    "csv_path = Path(\"crypto_data.csv\")\n",
    "crypto_data = pd.read_csv(\n",
    "    csv_path, index_col=\"data_date\", parse_dates=True, infer_datetime_format=True\n",
    ")\n",
    "crypto_data\n",
    "\n",
    "# Drop all columns except cryptocurrency and data_price\n",
    "crypto_data = crypto_data.drop(columns=[\"data_time\", \"timestamp\"])\n",
    "\n",
    "# Sort the dates in ascending order\n",
    "crypto_data = crypto_data.sort_index()\n",
    "\n",
    "# Drop missing values\n",
    "crypto_data = crypto_data.dropna()\n",
    "crypto_data.head()"
   ]
  },
  {
   "cell_type": "markdown",
   "metadata": {},
   "source": [
    " ### Group DataFrame and perform `count` aggregation"
   ]
  },
  {
   "cell_type": "code",
   "execution_count": null,
   "metadata": {},
   "outputs": [],
   "source": [
    "# Group by cryptocurrency and perform count\n",
    "crypto_data_grp = crypto_data.groupby(\"cryptocurrency\").count()\n",
    "crypto_data_grp"
   ]
  },
  {
   "cell_type": "markdown",
   "metadata": {},
   "source": [
    " ### Group DataFrame without aggregate function"
   ]
  },
  {
   "cell_type": "code",
   "execution_count": null,
   "metadata": {},
   "outputs": [],
   "source": [
    "# The groupby function requires a function or aggregation.\n",
    "\n",
    "# Whenever a function is not chained to a groupby function, the output will be a DataFrameGroupBy object rather than an actual DataFrame.\n",
    "\n",
    "# DataFrameGroupBy objects must be aggregated before they can be used."
   ]
  },
  {
   "cell_type": "code",
   "execution_count": null,
   "metadata": {},
   "outputs": [],
   "source": [
    "# Group by cryptocurrency\n",
    "crypto_data_grp = crypto_data.groupby(\"cryptocurrency\")\n",
    "crypto_data_grp"
   ]
  },
  {
   "cell_type": "markdown",
   "metadata": {},
   "source": [
    " ### Group DataFrame by `cryptocurrency` and calculate the average `data_price`"
   ]
  },
  {
   "cell_type": "code",
   "execution_count": null,
   "metadata": {},
   "outputs": [],
   "source": [
    "# Calculate average data_price for each crypto\n",
    "crypto_data_mean = crypto_data.groupby(\"cryptocurrency\").mean()\n",
    "crypto_data_mean"
   ]
  },
  {
   "cell_type": "markdown",
   "metadata": {},
   "source": [
    " ### Group by more than one column and calculate count"
   ]
  },
  {
   "cell_type": "code",
   "execution_count": null,
   "metadata": {},
   "outputs": [],
   "source": [
    "# Group by more than one column\n",
    "multi_group = crypto_data.groupby([\"cryptocurrency\", \"data_price\"])[\"data_price\"].count()\n",
    "multi_group"
   ]
  },
  {
   "cell_type": "markdown",
   "metadata": {},
   "source": [
    " ### Group by more than one column, round price to two decimal places, and calculate count"
   ]
  },
  {
   "cell_type": "code",
   "execution_count": null,
   "metadata": {},
   "outputs": [],
   "source": [
    "# Group by more than one column after rounding to two decimal places\n",
    "rounded_crypto_data = crypto_data.round({\"data_price\": 2})\n",
    "# View the docs for round()...the first param 'decimals' can be of type 'int' or 'dict' or 'Series'\n",
    "\n",
    "multi_group = rounded_crypto_data.groupby([\"cryptocurrency\", \"data_price\"])[\"data_price\"].count()\n",
    "multi_group"
   ]
  },
  {
   "cell_type": "markdown",
   "metadata": {},
   "source": [
    " ### Plot grouped data to generate more than one line on the same chart"
   ]
  },
  {
   "cell_type": "code",
   "execution_count": null,
   "metadata": {},
   "outputs": [],
   "source": [
    "# Plot data_price for each crypto across time\n",
    "grouped_cryptos = crypto_data.groupby(\"cryptocurrency\")[\"data_price\"].plot(legend=True)\n",
    "grouped_cryptos"
   ]
  },
  {
   "cell_type": "code",
   "execution_count": null,
   "metadata": {},
   "outputs": [],
   "source": [
    "# Check out the \"Group by\" user guide for more info - https://pandas.pydata.org/pandas-docs/stable/user_guide/groupby.html"
   ]
  }
 ],
 "metadata": {
  "file_extension": ".py",
  "kernelspec": {
   "display_name": "Python 3",
   "language": "python",
   "name": "python3"
  },
  "language_info": {
   "codemirror_mode": {
    "name": "ipython",
    "version": 3
   },
   "file_extension": ".py",
   "mimetype": "text/x-python",
   "name": "python",
   "nbconvert_exporter": "python",
   "pygments_lexer": "ipython3",
   "version": "3.7.10"
  },
  "mimetype": "text/x-python",
  "name": "python",
  "npconvert_exporter": "python",
  "pygments_lexer": "ipython3",
  "version": 3
 },
 "nbformat": 4,
 "nbformat_minor": 4
}
