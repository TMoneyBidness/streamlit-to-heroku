{
 "cells": [
  {
   "cell_type": "markdown",
   "metadata": {},
   "source": [
    "# Instructor Do: Multi-Indexing\n",
    "\n",
    "### Import Libraries and Dependencies"
   ]
  },
  {
   "cell_type": "code",
   "execution_count": null,
   "metadata": {},
   "outputs": [],
   "source": [
    "import pandas as pd\n",
    "from pathlib import Path"
   ]
  },
  {
   "cell_type": "markdown",
   "metadata": {},
   "source": [
    "### Read in CSV as Pandas DataFrame and Set the Index"
   ]
  },
  {
   "cell_type": "code",
   "execution_count": null,
   "metadata": {},
   "outputs": [],
   "source": [
    "# Read in data\n",
    "csv_path = Path(\"metro_inc_stock_data.csv\")\n",
    "ticker_data = pd.read_csv(csv_path, parse_dates=True, index_col=\"Date\", infer_datetime_format=True)\n",
    "ticker_data.head()"
   ]
  },
  {
   "cell_type": "markdown",
   "metadata": {},
   "source": [
    "### Display DataFrame Index"
   ]
  },
  {
   "cell_type": "code",
   "execution_count": null,
   "metadata": {},
   "outputs": [],
   "source": [
    "ticker_data.index"
   ]
  },
  {
   "cell_type": "markdown",
   "metadata": {},
   "source": [
    "### Create Multiple Indices by Grouping By DatetimeIndex `year`, `month`, and `day` with `first` Function"
   ]
  },
  {
   "cell_type": "code",
   "execution_count": null,
   "metadata": {},
   "outputs": [],
   "source": [
    "# Group by year, month, and day and grab first of each group\n",
    "ticker_data_grp = ticker_data.groupby(\n",
    "    [\n",
    "        ticker_data.index.year,\n",
    "        ticker_data.index.month,\n",
    "        ticker_data.index.day\n",
    "    ]\n",
    ").first()\n",
    "ticker_data_grp"
   ]
  },
  {
   "cell_type": "markdown",
   "metadata": {},
   "source": [
    "### Create Multiple Indices by Grouping By DatetimeIndex `year` and `month` with `first` Function"
   ]
  },
  {
   "cell_type": "code",
   "execution_count": null,
   "metadata": {},
   "outputs": [],
   "source": [
    "# Group by year and month and take the first value of each group\n",
    "ticker_data_grp_2 = ticker_data.groupby(\n",
    "    [\n",
    "        ticker_data.index.year,\n",
    "        ticker_data.index.month\n",
    "    ]\n",
    ").first()\n",
    "ticker_data_grp_2"
   ]
  },
  {
   "cell_type": "markdown",
   "metadata": {},
   "source": [
    "### Create Multiple Indices by Grouping By DatetimeIndex `year` and `month` with `last` Function"
   ]
  },
  {
   "cell_type": "code",
   "execution_count": null,
   "metadata": {},
   "outputs": [],
   "source": [
    "# Group by year and month and take the last value of each group\n",
    "ticker_data_grp_3 = ticker_data.groupby(\n",
    "    [\n",
    "        ticker_data.index.year,\n",
    "        ticker_data.index.month\n",
    "    ]\n",
    ").last()\n",
    "ticker_data_grp_3\n",
    "\n",
    "# Who can give a use case for last() in this way, where multi-index is year, month...? "
   ]
  },
  {
   "cell_type": "markdown",
   "metadata": {},
   "source": [
    "### Create Multiple Indices by Grouping By DatetimeIndex `year` and `month` with `mean` Function"
   ]
  },
  {
   "cell_type": "code",
   "execution_count": null,
   "metadata": {},
   "outputs": [],
   "source": [
    "# Group by year and month and calculate the average of each group\n",
    "ticker_data_grp_4 = ticker_data.groupby(\n",
    "    [\n",
    "        ticker_data.index.year,\n",
    "        ticker_data.index.month\n",
    "    ]\n",
    ").mean()\n",
    "ticker_data_grp_4"
   ]
  },
  {
   "cell_type": "markdown",
   "metadata": {},
   "source": [
    "### Slice Data for 2019-04-12"
   ]
  },
  {
   "cell_type": "code",
   "execution_count": null,
   "metadata": {},
   "outputs": [],
   "source": [
    "# Slice data for 2019-04-12 from first group\n",
    "ticker_data_slice = ticker_data_grp.loc[2019,4,12]\n",
    "ticker_data_slice"
   ]
  },
  {
   "cell_type": "markdown",
   "metadata": {},
   "source": [
    "### Slice Data For All Days in April 2019"
   ]
  },
  {
   "cell_type": "code",
   "execution_count": null,
   "metadata": {},
   "outputs": [],
   "source": [
    "# Slice data for April 2019 from first group\n",
    "ticker_data_slice = ticker_data_grp.loc[2019,4]\n",
    "ticker_data_slice"
   ]
  }
 ],
 "metadata": {
  "kernelspec": {
   "display_name": "Python 3",
   "language": "python",
   "name": "python3"
  },
  "language_info": {
   "codemirror_mode": {
    "name": "ipython",
    "version": 3
   },
   "file_extension": ".py",
   "mimetype": "text/x-python",
   "name": "python",
   "nbconvert_exporter": "python",
   "pygments_lexer": "ipython3",
   "version": "3.7.10"
  }
 },
 "nbformat": 4,
 "nbformat_minor": 4
}
