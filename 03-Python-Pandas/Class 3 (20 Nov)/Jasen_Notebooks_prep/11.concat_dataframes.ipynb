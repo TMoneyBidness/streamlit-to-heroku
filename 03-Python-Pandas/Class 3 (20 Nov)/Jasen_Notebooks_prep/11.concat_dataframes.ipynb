{
 "cells": [
  {
   "cell_type": "markdown",
   "metadata": {},
   "source": [
    " # Instructor Do: Concatenating DataFrames\n",
    "\n",
    " ### Import Libraries and Dependencies"
   ]
  },
  {
   "cell_type": "code",
   "execution_count": null,
   "metadata": {},
   "outputs": [],
   "source": [
    "import pandas as pd\n",
    "from pathlib import Path"
   ]
  },
  {
   "cell_type": "markdown",
   "metadata": {},
   "source": [
    " ### Read in files"
   ]
  },
  {
   "cell_type": "code",
   "execution_count": null,
   "metadata": {},
   "outputs": [],
   "source": [
    "# Set data files' paths\n",
    "france_data_path = Path(\"france_products.csv\")\n",
    "uk_data_path = Path(\"uk_products.csv\")\n",
    "netherlands_data_path = Path(\"netherlands_products.csv\")\n",
    "customer_data_path = Path(\"customer_info.csv\")\n",
    "products_data_path = Path(\"products.csv\")\n",
    "\n",
    "# A key consideration to keep in mind when concatenating DataFrames is that data is joined by index.\n",
    "# Pandas concat function will by default join rows or columns by index. Before concatenating DataFrames,\n",
    "# make sure the same column is used as the index for all DataFrames.\n",
    "\n",
    "# Read in data and index by CustomerID\n",
    "france_data = pd.read_csv(france_data_path, index_col=\"CustomerID\")\n",
    "uk_data = pd.read_csv(uk_data_path, index_col=\"CustomerID\")\n",
    "netherlands_data = pd.read_csv(netherlands_data_path, index_col=\"CustomerID\")\n",
    "customer_data = pd.read_csv(customer_data_path, index_col=\"CustomerID\")\n",
    "products_data = pd.read_csv(products_data_path, index_col=\"CustomerID\")"
   ]
  },
  {
   "cell_type": "markdown",
   "metadata": {},
   "source": [
    " ### Output sample of data"
   ]
  },
  {
   "cell_type": "code",
   "execution_count": null,
   "metadata": {},
   "outputs": [],
   "source": [
    "# Show sample of France data\n",
    "france_data.head()"
   ]
  },
  {
   "cell_type": "code",
   "execution_count": null,
   "metadata": {},
   "outputs": [],
   "source": [
    "# Show sample of UK data\n",
    "uk_data.head()"
   ]
  },
  {
   "cell_type": "code",
   "execution_count": null,
   "metadata": {},
   "outputs": [],
   "source": [
    "# Show sample of Netherlands data\n",
    "netherlands_data.head()"
   ]
  },
  {
   "cell_type": "markdown",
   "metadata": {},
   "source": [
    " ### Concatenate data by rows using `concat` function and `inner` join"
   ]
  },
  {
   "cell_type": "code",
   "execution_count": null,
   "metadata": {},
   "outputs": [],
   "source": [
    "# Join UK, France, and Netherlands full datasets by axis\n",
    "joined_data_rows = pd.concat(\n",
    "    [france_data, uk_data, netherlands_data], axis=\"rows\", join=\"inner\"\n",
    ")\n",
    "joined_data_rows\n",
    "\n",
    "# See https://pandas.pydata.org/pandas-docs/stable/user_guide/merging.html for more examples and explanations of join=\"inner\" or \"outer\""
   ]
  },
  {
   "cell_type": "markdown",
   "metadata": {},
   "source": [
    " ### Concatenate data by column using `concat` function and `inner` join"
   ]
  },
  {
   "cell_type": "code",
   "execution_count": null,
   "metadata": {},
   "outputs": [],
   "source": [
    "# Show sample of customer data\n",
    "customer_data.head()"
   ]
  },
  {
   "cell_type": "code",
   "execution_count": null,
   "metadata": {},
   "outputs": [],
   "source": [
    "# Show sample of product data\n",
    "products_data.head()"
   ]
  },
  {
   "cell_type": "code",
   "execution_count": null,
   "metadata": {},
   "outputs": [],
   "source": [
    "# Join Customer and products by columns axis\n",
    "joined_data_cols = pd.concat(\n",
    "    [customer_data, products_data], axis=\"columns\", join=\"inner\"\n",
    ")\n",
    "joined_data_cols.head()"
   ]
  }
 ],
 "metadata": {
  "file_extension": ".py",
  "kernelspec": {
   "display_name": "Python 3",
   "language": "python",
   "name": "python3"
  },
  "language_info": {
   "codemirror_mode": {
    "name": "ipython",
    "version": 3
   },
   "file_extension": ".py",
   "mimetype": "text/x-python",
   "name": "python",
   "nbconvert_exporter": "python",
   "pygments_lexer": "ipython3",
   "version": "3.7.10"
  },
  "mimetype": "text/x-python",
  "name": "python",
  "npconvert_exporter": "python",
  "pygments_lexer": "ipython3",
  "version": 3
 },
 "nbformat": 4,
 "nbformat_minor": 4
}
