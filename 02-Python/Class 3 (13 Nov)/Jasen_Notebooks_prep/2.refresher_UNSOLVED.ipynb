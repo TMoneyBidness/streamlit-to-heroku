{
 "cells": [
  {
   "cell_type": "markdown",
   "id": "3f87ab30-96af-4c5d-b2e4-312b688ab91d",
   "metadata": {},
   "source": [
    "# Refresher Activity: Email Marketing\n",
    "\n",
    "In this activity, you will apply specific skills learned in the previous lessons to a financial use case.\n",
    "\n",
    "## Background\n",
    "\n",
    "A company's marketing department wants to understand the differences in purchasing activity among the firm's customers in order to create personalized email newsletters for each customer.\n",
    "\n",
    "Harold has been asked to categorize customers based on their sales revenue and assign a business tier: platinum, gold, silver, or bronze. Then, depending on the assigned business tier, he needs to generate a personalized message for each customer.\n",
    "\n",
    "Help Harold create a program that will achieve the marketing department's goals––and impress them!\n",
    "\n",
    "## Instructions\n",
    "\n",
    "* Create a function named `create_greeting` that takes in `first_name`, `last_name`, and `revenue` as parameters, and returns a dynamic greeting based on revenue conditionals:\n",
    "\n",
    "  * Platinum = 3001+\n",
    "  * Gold = 2001–3000\n",
    "  * Silver = 1001–2000\n",
    "  * Bronze = 0–1000\n",
    "\n",
    "* Create a for loop that iterates through `customers` and prints out the constructed greeting for each customer."
   ]
  },
  {
   "cell_type": "code",
   "execution_count": null,
   "id": "076f60c7-a5e7-428e-80cf-bf72900cd7bb",
   "metadata": {},
   "outputs": [],
   "source": [
    "# -*- coding: utf-8 -*-\n",
    "\"\"\"Refresher activity.\n",
    "This script will use variables, conditionals, lists, dicts, and functions\n",
    "to print out different greetings for customers based on their\n",
    "business tier (determined by revenue).\n",
    "\"\"\"\n",
    "\n",
    "# List of dicts\n",
    "customers = [\n",
    "    { \"first_name\": \"Tom\", \"last_name\": \"Bell\", \"revenue\": 0 },\n",
    "    { \"first_name\": \"Maggie\", \"last_name\": \"Johnson\", \"revenue\": 1032 },\n",
    "    { \"first_name\": \"John\", \"last_name\": \"Spectre\", \"revenue\": 2543 },\n",
    "    { \"first_name\": \"Susy\", \"last_name\": \"Simmons\", \"revenue\": 5322 }\n",
    "]\n",
    "\n",
    "# @TODO Define a function that accepts a customer first_name, last_name, and\n",
    "# revenue and returns a custom greeting with the full name.\n",
    "# Use these ranges to determine the business tier (and corresponding message)\n",
    "# for each customer.\n",
    "#   Platinum = 3001+\n",
    "#   Gold = 2001-3000\n",
    "#   Silver = 1001-2000\n",
    "#   Bronze = 0-1000\n",
    "def create_greeting(first_name, last_name, revenue):\n",
    "    \"\"\"Creates a customer greeting based on revenue status.\n",
    "    Args:\n",
    "        first_name (str): The first name of the customer.\n",
    "        last_name (str): The last name of the customer.\n",
    "        revenue (int): The revenue of the customer.\n",
    "    Returns:\n",
    "        A customized greeting string.\n",
    "    \"\"\"\n",
    "\n",
    "    if revenue > 3000: # if True, this is a platinum member\n",
    "        greeting = f\"Hi {first_name} {last_name}! Thank you for your business of ${revenue}! You are a platinum member.\"\n",
    "    elif (): # populate the code in the parentheses...why do we need parentheses? Hint...you will need to use the 'and' keyword to compare a variable between 2 values\n",
    "        # @TODO: put your code here...should look similar to the greeting above, but for a different category of customer\n",
    "    elif (): # \n",
    "        # @TODO: as above\n",
    "    elif (): # \n",
    "        # @TODO: as above\n",
    "    return greeting"
   ]
  },
  {
   "cell_type": "code",
   "execution_count": null,
   "id": "a0439a7c-35e4-44f7-ba9e-31b6999ad825",
   "metadata": {},
   "outputs": [],
   "source": [
    "# @TODO: Loop through the list of customers and use your function to print\n",
    "# custom greetings for each customer.\n",
    "\n",
    "# Let's pseudicode a solution shall we...\n",
    "# for loop_variable in iterator (ie. customers list):\n",
    "#   assign to another variable the output of the create_greeting function, whose inputs will be elements of the customers list\n",
    "#   print(variable)\n",
    "\n",
    "# Now, let's try\n",
    "# @TODO: YOUR CODE HERE!\n"
   ]
  }
 ],
 "metadata": {
  "kernelspec": {
   "display_name": "Python 3",
   "language": "python",
   "name": "python3"
  },
  "language_info": {
   "codemirror_mode": {
    "name": "ipython",
    "version": 3
   },
   "file_extension": ".py",
   "mimetype": "text/x-python",
   "name": "python",
   "nbconvert_exporter": "python",
   "pygments_lexer": "ipython3",
   "version": "3.7.10"
  }
 },
 "nbformat": 4,
 "nbformat_minor": 5
}
