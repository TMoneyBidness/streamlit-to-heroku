{
 "cells": [
  {
   "cell_type": "markdown",
   "id": "1aa0767a-3800-499b-8493-3e7cd8129fe7",
   "metadata": {},
   "source": [
    "# E-Commerce Traffic\n",
    "\n",
    "In this activity, you will parse a text file. You will also sum the total number of customers and count of days in the text file to calculate the daily average of customer traffic for your e-commerce business. Assume each line is equal to a day's worth of customers.\n",
    "\n",
    "## Instructions\n",
    "\n",
    "Using the [starter file](Unsolved/ecommerce_traffic.py), complete the following steps.\n",
    "\n",
    "1. Import the pathlib library.\n",
    "\n",
    "2. Set the file path for the `customer_traffic.txt` data file.\n",
    "\n",
    "3. Initialize the `customer_total` and `day_count` variables that will hold the total and count of the numbers in the text file, respectively.\n",
    "\n",
    "4. Use the file path pointing to the `customer_traffic.txt` data file to open the file as an object.\n",
    "\n",
    "5. Iterate over each line in the file and cumulatively add to the `customer_total` and `day_count` variables. You will need to convert the number from the text file as an int to perform numerical calculations.\n",
    "\n",
    "6. Write the contents of the `customer_total`, `day_count`, and `daily_average` to an `output.txt` file. Your `output.txt` file should look similar to the following code block:\n",
    "\n",
    "    ```\n",
    "    The total and count of the numbers in the text file are 4945 and 100, respectively. The average is 49.45.\n",
    "    ```\n",
    "\n",
    "## Hint\n",
    "\n",
    "You already know a lot of the concepts needed to complete this activity, like variables, for loops, and formatted strings. Just take it step by step; don't let file paths and reading and writing to/from a file throw you off!\n",
    "\n",
    "---\n"
   ]
  },
  {
   "cell_type": "code",
   "execution_count": null,
   "id": "3f4757a4-35bc-43f5-a39e-539f90a950af",
   "metadata": {},
   "outputs": [],
   "source": [
    "# -*- coding: utf-8 -*-\n",
    "\"\"\"Student Do: E-Commerce Traffic.\n",
    "This script will parse through a text file and sum the total\n",
    "number of customers and the count of days in the text file to\n",
    "calculate the daily average of customer traffic for an e-commerce\n",
    "business.\n",
    "\"\"\""
   ]
  },
  {
   "cell_type": "code",
   "execution_count": null,
   "id": "114d9585-1f79-4e99-a0cf-e47a6dee28f9",
   "metadata": {},
   "outputs": [],
   "source": [
    "# @TODO: From the pathlib library, import the main class Path"
   ]
  },
  {
   "cell_type": "code",
   "execution_count": null,
   "id": "3360bbdc-e257-4859-baa2-cc3f827ecc6f",
   "metadata": {},
   "outputs": [],
   "source": [
    "# @TODO: Check the current directory where the Python program is executing from"
   ]
  },
  {
   "cell_type": "code",
   "execution_count": null,
   "id": "3b85281c-e93b-450f-b20c-b5893b032c25",
   "metadata": {},
   "outputs": [],
   "source": [
    "# @TODO: Set the path using Pathlib"
   ]
  },
  {
   "cell_type": "code",
   "execution_count": null,
   "id": "a1621827-2a22-4e0d-9944-627b6d5e57b8",
   "metadata": {},
   "outputs": [],
   "source": [
    "# Initialize variables\n",
    "customer_total = 0\n",
    "day_count = 0\n",
    "\n",
    "# @TODO: Open the file in \"read\" mode ('r') and store the contents in the variable 'file'\n",
    "\n",
    "    # @TODO: Parse the file line by line\n",
    "\n",
    "\n",
    "        # @TODO: Convert the number in the text file from string to int (allows for numerical calculations)\n",
    "        number = int(line)\n",
    "\n",
    "        # @TODO: Sum the total and count of the numbers in the text file\n",
    "        customer_total += # what variable to we increment by?\n",
    "        day_count += # what do we increment day_count by?\n",
    "\n",
    "# @TODO: Print out customer_total and day_count\n",
    "print(f\"customer_total: {customer_total}\") # i give you customer_total total f-string...now give me day_count f-string...please"
   ]
  },
  {
   "cell_type": "code",
   "execution_count": null,
   "id": "8f8a9b63-8eb4-4705-aafe-bbb64a287b0c",
   "metadata": {},
   "outputs": [],
   "source": [
    "# @TODO: Calculate the average"
   ]
  },
  {
   "cell_type": "code",
   "execution_count": null,
   "id": "329cb184-6065-4559-9404-2e5f25410923",
   "metadata": {},
   "outputs": [],
   "source": [
    "# @TODO: Set output file name"
   ]
  },
  {
   "cell_type": "code",
   "execution_count": null,
   "id": "16d5abd1-eed0-403d-98dc-05121c511492",
   "metadata": {},
   "outputs": [],
   "source": [
    "# @TODO: Open the output path as a file object\n",
    "\n",
    "    # @TODO: Write daily_average to the output file, convert to string"
   ]
  }
 ],
 "metadata": {
  "kernelspec": {
   "display_name": "Python 3",
   "language": "python",
   "name": "python3"
  },
  "language_info": {
   "codemirror_mode": {
    "name": "ipython",
    "version": 3
   },
   "file_extension": ".py",
   "mimetype": "text/x-python",
   "name": "python",
   "nbconvert_exporter": "python",
   "pygments_lexer": "ipython3",
   "version": "3.7.10"
  }
 },
 "nbformat": 4,
 "nbformat_minor": 5
}
