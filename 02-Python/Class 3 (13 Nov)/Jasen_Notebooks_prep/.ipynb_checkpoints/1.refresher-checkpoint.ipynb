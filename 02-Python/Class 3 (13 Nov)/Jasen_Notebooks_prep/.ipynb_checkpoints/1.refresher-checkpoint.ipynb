{
 "cells": [
  {
   "cell_type": "code",
   "execution_count": null,
   "id": "d572946d-0cfb-4196-b1fb-f81a30b35865",
   "metadata": {},
   "outputs": [],
   "source": [
    "# -*- coding: utf-8 -*-\n",
    "\"\"\"\n",
    "Python refresher activity.\n",
    "This script showcases basic operations in Python such as variables,\n",
    "conditionals, lists, dicts, for loops, and functions.\n",
    "\"\"\""
   ]
  },
  {
   "cell_type": "markdown",
   "id": "3ba373dd-93a5-41be-84b6-a1180af41091",
   "metadata": {},
   "source": [
    "What are variables?\n",
    "\n",
    "Answer: Variables are reserved memory allocations that are used to store information that can be referenced and manipulated later."
   ]
  },
  {
   "cell_type": "code",
   "execution_count": null,
   "id": "c94ef6fe-31a7-455e-a285-50522903abad",
   "metadata": {},
   "outputs": [],
   "source": [
    "# Variables\n",
    "# Creates a variable with a string \"Frankfurter\"\n",
    "title = \"Frankfurter\"\n",
    "years = 23\n",
    "hourly_wage = 65.40\n",
    "expert_status = True"
   ]
  },
  {
   "cell_type": "markdown",
   "id": "c0138ce9-b5f6-4ff9-8ee8-bdeab1db155c",
   "metadata": {},
   "source": [
    "What are conditionals?\n",
    "\n",
    "Answer: Conditionals are if-else statements that make true or false comparisons that determine corresponding actions for either scenario."
   ]
  },
  {
   "cell_type": "code",
   "execution_count": null,
   "id": "128cc4a3-e946-4c4e-b6c8-75e8313540f5",
   "metadata": {},
   "outputs": [],
   "source": [
    "# Conditionals\n",
    "# Declare variables and values for evaluation\n",
    "x = 1\n",
    "y = 10\n",
    "\n",
    "# Checks if one value is equal to another\n",
    "if x == 1:\n",
    "    print(\"x is equal to 1\")\n",
    "else:\n",
    "    print(\"x is equal to 1\")"
   ]
  },
  {
   "cell_type": "markdown",
   "id": "d5701e78-8ad7-4ff4-9c89-b683a09b742f",
   "metadata": {},
   "source": [
    "What are lists?\n",
    "\n",
    "Answer: Lists are mutable (changeable), ordered data structures that hold data of a single type."
   ]
  },
  {
   "cell_type": "code",
   "execution_count": null,
   "id": "b4a7be43-8dc3-4fe3-8a76-c2da0e26bc69",
   "metadata": {},
   "outputs": [],
   "source": [
    "# Lists\n",
    "# Create a list of Pokemon\n",
    "print(\"Creating a list of Pokemon...\")\n",
    "pokemon = [\"Pikachu\", \"Charizard\", \"Bulbasaur\", \"Gyarados\", \"Dragonite\", \"Onyx\"]\n",
    "print(pokemon)"
   ]
  },
  {
   "cell_type": "markdown",
   "id": "ea735cc9-2996-4e73-a080-7355e4f957a9",
   "metadata": {},
   "source": [
    "What are dicts?\n",
    "\n",
    "Answer: Dicts are mutable (changeable), unordered data structures that hold key-value pairs of potentially varying data types."
   ]
  },
  {
   "cell_type": "code",
   "execution_count": null,
   "id": "537d09d6-00f3-4c6a-a75d-9cbc8745cbe5",
   "metadata": {},
   "outputs": [],
   "source": [
    "# Dicts\n",
    "# Initialize a dictionary\n",
    "trading_pnl = {\n",
    "    \"title\": \"Trading Log\",\n",
    "    \"03-18-2019\": -224,\n",
    "    \"03-19-2019\": 352,\n",
    "    \"03-20-2019\": 252,\n",
    "    \"03-21-2019\": 354,\n",
    "    \"03-22-2019\": -544,\n",
    "    \"03-23-2019\": -650,\n",
    "    \"03-24-2019\": 56,\n",
    "    \"03-25-2019\": 123,\n",
    "    \"03-26-2019\": -43,\n",
    "    \"03-27-2019\": 254,\n",
    "    \"03-28-2019\": 325,\n",
    "    \"03-29-2019\": -123,\n",
    "    \"03-30-2019\": 47,\n",
    "    \"03-31-2019\": 321,\n",
    "    \"04-01-2019\": 123,\n",
    "    \"04-02-2019\": 133,\n",
    "    \"04-03-2019\": -151,\n",
    "    \"04-04-2019\": 613,\n",
    "    \"04-05-2019\": 232,\n",
    "    \"04-06-2019\": -311\n",
    "}\n",
    "print(trading_pnl)"
   ]
  },
  {
   "cell_type": "markdown",
   "id": "0ff749c1-efad-4991-b87f-26468b25bf90",
   "metadata": {},
   "source": [
    "What are for loops?\n",
    "\n",
    "Answer: For loops are blocks of code that allow you to repeat a process a fixed number of times."
   ]
  },
  {
   "cell_type": "code",
   "execution_count": null,
   "id": "771cb277-3e4b-4b2a-b6f0-073c68b57890",
   "metadata": {},
   "outputs": [],
   "source": [
    "# Loop over list\n",
    "# Loop through a range of numbers (0 through 4)\n",
    "for x in range(5):\n",
    "  print(x)"
   ]
  },
  {
   "cell_type": "markdown",
   "id": "102368b5-9856-4816-86c4-2be6658c43ae",
   "metadata": {},
   "source": [
    "What are functions?\n",
    "\n",
    "Answer: Functions are callable blocks of reusable code that perform an action."
   ]
  },
  {
   "cell_type": "code",
   "execution_count": null,
   "id": "4b2bb43d-c75e-492a-8b53-e6ae0a4f558a",
   "metadata": {},
   "outputs": [],
   "source": [
    "# Define a function\n",
    "# Define a main function that accepts a string argument\n",
    "def main(stock_ticker):\n",
    "  print(stock_ticker + \" is booming right now!\")"
   ]
  },
  {
   "cell_type": "code",
   "execution_count": null,
   "id": "f9265807-87cb-41d2-afba-c40140ac06e0",
   "metadata": {},
   "outputs": [],
   "source": [
    "stock_ticker = \"SBUX\"\n",
    "main(stock_ticker)"
   ]
  },
  {
   "cell_type": "markdown",
   "id": "a9b724e8-85b2-4800-b0f8-45c12cf66954",
   "metadata": {},
   "source": [
    "How do you traverse, or access, nested objects?\n",
    "\n",
    "Answer: Specify the index for each level of iteration."
   ]
  },
  {
   "cell_type": "code",
   "execution_count": null,
   "id": "c51af0ba-3c1a-4ec9-af81-0a8824bab031",
   "metadata": {},
   "outputs": [],
   "source": [
    "# Traverse/access nested objects\n",
    "# List of Dicts\n",
    "ceo_nested_dict = [\n",
    "  {\n",
    "      \"name\": \"Warren Buffet\",\n",
    "      \"age\": 88,\n",
    "      \"occupation\": \"CEO of Berkshire Hathaway\"\n",
    "  },\n",
    "  {\n",
    "      \"name\": \"Jeff Bezos\",\n",
    "      \"age\": 55,\n",
    "      \"occupation\": \"CEO of Amazon\"\n",
    "  },\n",
    "  {\n",
    "      \"name\": \"Harry Markowitz\",\n",
    "      \"age\": 91,\n",
    "      \"occupation\": \"Professor of Finance\"\n",
    "  }\n",
    "]\n",
    "\n",
    "print(ceo_nested_dict[0])\n",
    "print(ceo_nested_dict[0]['occupation'])"
   ]
  },
  {
   "cell_type": "code",
   "execution_count": null,
   "id": "4cce19f8-b07d-45f3-b692-53a4191fab0d",
   "metadata": {},
   "outputs": [],
   "source": [
    "# For bonus points...\n",
    "for key, value in ceo_nested_dict[0].items() :\n",
    "    print (key, value)\n",
    "\n",
    "# As for the items() method...where did that come from? Well, its a method you can use to access the key:value pairs from a dict\n",
    "# See the Python docs - https://docs.python.org/3/tutorial/datastructures.html#looping-techniques\n",
    "    \n",
    "# 'key' and 'value' are called 'loop variables' as their value varies with each iteration in the loop\n",
    "# they could be any name...for example i and j"
   ]
  },
  {
   "cell_type": "code",
   "execution_count": null,
   "id": "67a4d9d8-baa1-4b85-a774-d60af7e59aa6",
   "metadata": {},
   "outputs": [],
   "source": [
    "for i, j in ceo_nested_dict[0].items() :\n",
    "    print (i, j)"
   ]
  }
 ],
 "metadata": {
  "kernelspec": {
   "display_name": "Python 3",
   "language": "python",
   "name": "python3"
  },
  "language_info": {
   "codemirror_mode": {
    "name": "ipython",
    "version": 3
   },
   "file_extension": ".py",
   "mimetype": "text/x-python",
   "name": "python",
   "nbconvert_exporter": "python",
   "pygments_lexer": "ipython3",
   "version": "3.7.10"
  }
 },
 "nbformat": 4,
 "nbformat_minor": 5
}
