{
 "cells": [
  {
   "cell_type": "code",
   "execution_count": 5,
   "id": "802a52c4-1a4c-44a7-b356-45962400bfe6",
   "metadata": {},
   "outputs": [
    {
     "data": {
      "text/plain": [
       "'Instructor Demo: CSV Reader.\\nThis script will use the Pathlib library to set the file path,\\nuse the csv library to read in the file, iterate over each\\nrow of the file to capture employee salaries, calculate min,\\nmax, avg metrics of employee salaries, and write the metrics\\nto a csv file.\\n'"
      ]
     },
     "execution_count": 5,
     "metadata": {},
     "output_type": "execute_result"
    }
   ],
   "source": [
    "# -*- coding: utf-8 -*-\n",
    "\"\"\"Instructor Demo: CSV Reader.\n",
    "This script will use the Pathlib library to set the file path,\n",
    "use the csv library to read in the file, iterate over each\n",
    "row of the file to capture employee salaries, calculate min,\n",
    "max, avg metrics of employee salaries, and write the metrics\n",
    "to a csv file.\n",
    "\"\"\""
   ]
  },
  {
   "cell_type": "code",
   "execution_count": 6,
   "id": "507197d9-e276-406b-9d77-f91982551eae",
   "metadata": {},
   "outputs": [],
   "source": [
    "# Import the pathlib and csv library\n",
    "from pathlib import Path\n",
    "import csv"
   ]
  },
  {
   "cell_type": "code",
   "execution_count": 7,
   "id": "e5ac71e8-d62e-495e-87db-7e412bbe92db",
   "metadata": {},
   "outputs": [],
   "source": [
    "# Set the file path\n",
    "csvpath = Path('../Resources/accounting.csv')"
   ]
  },
  {
   "cell_type": "code",
   "execution_count": 8,
   "id": "248b908c-cc82-4dae-938d-770de6baef85",
   "metadata": {},
   "outputs": [],
   "source": [
    "# Initialize variable to hold salaries\n",
    "salaries = []"
   ]
  },
  {
   "cell_type": "code",
   "execution_count": 9,
   "id": "a34a8b8f-a803-4f29-ad84-a8268deb0290",
   "metadata": {},
   "outputs": [],
   "source": [
    "# Initialize line_num variable\n",
    "line_num = 0"
   ]
  },
  {
   "cell_type": "code",
   "execution_count": 10,
   "id": "e1e4d41b-815b-4eed-b9c6-a04cabeb5681",
   "metadata": {},
   "outputs": [
    {
     "name": "stdout",
     "output_type": "stream",
     "text": [
      "<class '_io.TextIOWrapper'>\n",
      "<class '_csv.reader'>\n",
      "['First Name', 'Last Name', 'SSN', 'Salary'] <---- HEADER\n",
      "['Tina', 'Fleming', '619-16-7988', '75000']\n",
      "['Erica', 'Shah', '164-51-7615', '40000']\n",
      "['Paula', 'Ortiz', '051-83-3290', '120000']\n",
      "['James', 'Hendricks', '776-83-2884', '90000']\n",
      "['Lauren', 'King', '197-94-2398', '60000']\n",
      "['David', 'Cowan', '252-92-1832', '35000']\n",
      "['Andrew', 'Burton', '296-23-6842', '150000']\n",
      "['Julian', 'Baker', '337-40-7543', '75000']\n",
      "['Scott', 'Castro', '399-46-5595', '50000']\n",
      "['Billy', 'Rodriguez', '014-18-2503', '65000']\n",
      "['Darrell', 'Leblanc', '005-82-7918', '40000']\n",
      "['David', 'Hammond', '561-17-6312', '90000']\n"
     ]
    }
   ],
   "source": [
    "# Open the input path as a file object\n",
    "with open(csvpath, 'r') as csvfile:\n",
    "\n",
    "    # Print the datatype of the file object\n",
    "    print(type(csvfile))\n",
    "\n",
    "    # Pass in the csv file to the csv.reader() function\n",
    "    # (with ',' as the delmiter/separator) and return the csvreader object\n",
    "    csvreader = csv.reader(csvfile, delimiter=',')\n",
    "    # Print the datatype of the csvreader\n",
    "    print(type(csvreader))\n",
    "\n",
    "    # Go to the next row from the start of the file\n",
    "    # (which is often the first row/header) and iterate line_num by 1\n",
    "    header = next(csvreader)\n",
    "    line_num += 1\n",
    "    # Print the header\n",
    "    print(f\"{header} <---- HEADER\")\n",
    "\n",
    "    # Read each row of data after the header\n",
    "    for row in csvreader:\n",
    "        # Print the row\n",
    "        print(row)\n",
    "        # Set salary variable equal to the value in the 4th column of each row\n",
    "        salary = int(row[3])\n",
    "        # Append the row salary value to the list of salaries\n",
    "        salaries.append(salary)"
   ]
  },
  {
   "cell_type": "code",
   "execution_count": 11,
   "id": "82308720-05f3-4013-a66e-72433274f17c",
   "metadata": {},
   "outputs": [],
   "source": [
    "# Initialize metric variables\n",
    "max_salary = 0\n",
    "min_salary = 0\n",
    "avg_salary = 0\n",
    "total_salary = 0\n",
    "count_salary = 0"
   ]
  },
  {
   "cell_type": "code",
   "execution_count": 12,
   "id": "59f7c7ae-3255-48b0-b3fd-0076e800fdbb",
   "metadata": {},
   "outputs": [],
   "source": [
    "# Calculate the max, mean, and average of the list of salaries\n",
    "for salary in salaries:\n",
    "\n",
    "    # Sum the total and count variables\n",
    "    total_salary += salary\n",
    "    count_salary += 1\n",
    "\n",
    "    # Logic to determine min and max salaries\n",
    "    if min_salary == 0:\n",
    "        min_salary = salary\n",
    "    elif salary > max_salary:\n",
    "        max_salary = salary\n",
    "    elif salary < min_salary:\n",
    "        min_salary = salary"
   ]
  },
  {
   "cell_type": "code",
   "execution_count": 14,
   "id": "ee4843e3-7f8e-452a-a4cf-8925263063af",
   "metadata": {},
   "outputs": [
    {
     "data": {
      "text/plain": [
       "890000"
      ]
     },
     "metadata": {},
     "output_type": "display_data"
    },
    {
     "data": {
      "text/plain": [
       "12"
      ]
     },
     "metadata": {},
     "output_type": "display_data"
    }
   ],
   "source": [
    "display(total_salary)\n",
    "display(count_salary)"
   ]
  },
  {
   "cell_type": "code",
   "execution_count": 15,
   "id": "12c18d58-9e0e-4544-a59f-88349fb789b2",
   "metadata": {},
   "outputs": [],
   "source": [
    "# Calculate the average salary, round to the nearest 2 decimal places\n",
    "avg_salary = round(total_salary / count_salary, 2)"
   ]
  },
  {
   "cell_type": "code",
   "execution_count": 16,
   "id": "0050f39e-748f-454d-9618-b2bf5c0ee799",
   "metadata": {},
   "outputs": [
    {
     "name": "stdout",
     "output_type": "stream",
     "text": [
      "150000 35000 74166.67\n"
     ]
    }
   ],
   "source": [
    "# Print the metrics\n",
    "print(max_salary, min_salary, avg_salary)"
   ]
  },
  {
   "cell_type": "code",
   "execution_count": 18,
   "id": "5c90fce3-00c1-4c4f-8caf-b02e8f9d56cb",
   "metadata": {},
   "outputs": [],
   "source": [
    "# Set the output header\n",
    "header = [\"Max_Salary\", \"Min_Salary\", \"Avg_Salary\"]\n",
    "# Create a list of metrics\n",
    "metrics = [max_salary, min_salary, avg_salary]\n",
    "\n",
    "# Set the output file path\n",
    "output_path = Path('output.csv')\n",
    "\n",
    "# Open the output path as a file object\n",
    "with open(output_path, 'w') as csvfile:\n",
    "    # Set the file object as a csvwriter object\n",
    "    csvwriter = csv.writer(csvfile, delimiter=',')\n",
    "    # Write the header to the output file\n",
    "    csvwriter.writerow(header)\n",
    "    # Write the list of metrics to the output file\n",
    "    csvwriter.writerow(metrics)\n",
    "    # Bonis points...another row...with random data\n",
    "    csvwriter.writerow([\"I\",\"LOVE\",\"FINTECH\"])\n",
    "    csvwriter.writerow([\"I REALLY\",\"LOVE\",\"FINTECH\"])"
   ]
  }
 ],
 "metadata": {
  "kernelspec": {
   "display_name": "Python 3",
   "language": "python",
   "name": "python3"
  },
  "language_info": {
   "codemirror_mode": {
    "name": "ipython",
    "version": 3
   },
   "file_extension": ".py",
   "mimetype": "text/x-python",
   "name": "python",
   "nbconvert_exporter": "python",
   "pygments_lexer": "ipython3",
   "version": "3.7.10"
  }
 },
 "nbformat": 4,
 "nbformat_minor": 5
}
